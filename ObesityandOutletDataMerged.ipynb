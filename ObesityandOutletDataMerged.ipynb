{
  "nbformat": 4,
  "nbformat_minor": 0,
  "metadata": {
    "colab": {
      "provenance": [],
      "authorship_tag": "ABX9TyMpyzi991tKdzFqp9OeVbzC",
      "include_colab_link": true
    },
    "kernelspec": {
      "name": "python3",
      "display_name": "Python 3"
    },
    "language_info": {
      "name": "python"
    }
  },
  "cells": [
    {
      "cell_type": "markdown",
      "metadata": {
        "id": "view-in-github",
        "colab_type": "text"
      },
      "source": [
        "<a href=\"https://colab.research.google.com/github/jesme00/jesme00.github.io/blob/main/ObesityandOutletDataMerged.ipynb\" target=\"_parent\"><img src=\"https://colab.research.google.com/assets/colab-badge.svg\" alt=\"Open In Colab\"/></a>"
      ]
    },
    {
      "cell_type": "markdown",
      "source": [
        "This notebook scrapes data the same as my other notebook, 'ObesityDataClean.ipynb', but just keeps 2020/21 data, as I only needed to match the most recent data to fast food outlet density data. "
      ],
      "metadata": {
        "id": "GEAaUTnKHVwp"
      }
    },
    {
      "cell_type": "code",
      "execution_count": null,
      "metadata": {
        "colab": {
          "base_uri": "https://localhost:8080/"
        },
        "id": "HniMIYWLgMiF",
        "outputId": "92ea7534-5092-4c52-91d8-23f3a4e38907"
      },
      "outputs": [
        {
          "output_type": "stream",
          "name": "stdout",
          "text": [
            "Looking in indexes: https://pypi.org/simple, https://us-python.pkg.dev/colab-wheels/public/simple/\n",
            "Requirement already satisfied: fingertips_py in /usr/local/lib/python3.7/dist-packages (0.2.2)\n",
            "Requirement already satisfied: requests in /usr/local/lib/python3.7/dist-packages (from fingertips_py) (2.23.0)\n",
            "Requirement already satisfied: pandas>=0.18.1 in /usr/local/lib/python3.7/dist-packages (from fingertips_py) (1.3.5)\n",
            "Requirement already satisfied: pytz>=2017.3 in /usr/local/lib/python3.7/dist-packages (from pandas>=0.18.1->fingertips_py) (2022.6)\n",
            "Requirement already satisfied: numpy>=1.17.3 in /usr/local/lib/python3.7/dist-packages (from pandas>=0.18.1->fingertips_py) (1.21.6)\n",
            "Requirement already satisfied: python-dateutil>=2.7.3 in /usr/local/lib/python3.7/dist-packages (from pandas>=0.18.1->fingertips_py) (2.8.2)\n",
            "Requirement already satisfied: six>=1.5 in /usr/local/lib/python3.7/dist-packages (from python-dateutil>=2.7.3->pandas>=0.18.1->fingertips_py) (1.15.0)\n",
            "Requirement already satisfied: certifi>=2017.4.17 in /usr/local/lib/python3.7/dist-packages (from requests->fingertips_py) (2022.9.24)\n",
            "Requirement already satisfied: idna<3,>=2.5 in /usr/local/lib/python3.7/dist-packages (from requests->fingertips_py) (2.10)\n",
            "Requirement already satisfied: urllib3!=1.25.0,!=1.25.1,<1.26,>=1.21.1 in /usr/local/lib/python3.7/dist-packages (from requests->fingertips_py) (1.24.3)\n",
            "Requirement already satisfied: chardet<4,>=3.0.2 in /usr/local/lib/python3.7/dist-packages (from requests->fingertips_py) (3.0.4)\n"
          ]
        }
      ],
      "source": [
        "pip install fingertips_py "
      ]
    },
    {
      "cell_type": "code",
      "source": [
        "import fingertips_py as ftp"
      ],
      "metadata": {
        "id": "HMlaxAzQgOgI"
      },
      "execution_count": null,
      "outputs": []
    },
    {
      "cell_type": "code",
      "source": [
        "df=ftp.retrieve_data.get_all_data_for_indicators(93088, area_type_id=401, parent_area_type_id=15, filter_by_area_codes=None, is_test=False)\n",
        "df2=df.drop(['Indicator Name','Sex','Age','Indicator ID','Compared to percentiles','Parent Code','Parent Name','Category Type','Count','Category','Lower CI 95.0 limit','Time period range','Time period Sortable','Upper CI 95.0 limit','Lower CI 99.8 limit','Upper CI 99.8 limit','Denominator','Value note','Recent Trend','New data','Compared to goal'],axis=1)\n",
        "df3=df2.loc[df2[\"Area Name\"] != \"England\" ]"
      ],
      "metadata": {
        "id": "y3QrZRlhhp4S"
      },
      "execution_count": null,
      "outputs": []
    },
    {
      "cell_type": "code",
      "source": [
        "df3.head(3)"
      ],
      "metadata": {
        "colab": {
          "base_uri": "https://localhost:8080/",
          "height": 326
        },
        "id": "fdm5f6DqgsR1",
        "outputId": "57ba38fc-c563-4d2e-f83c-0913dc01cc38"
      },
      "execution_count": null,
      "outputs": [
        {
          "output_type": "execute_result",
          "data": {
            "text/plain": [
              "     Area Code             Area Name                        Area Type  \\\n",
              "134  E06000001            Hartlepool  Districts & UAs (from Apr 2021)   \n",
              "135  E06000002         Middlesbrough  Districts & UAs (from Apr 2021)   \n",
              "136  E06000003  Redcar and Cleveland  Districts & UAs (from Apr 2021)   \n",
              "\n",
              "    Time period      Value Compared to England value or percentiles  \n",
              "134     2015/16  67.232891                                    Worse  \n",
              "135     2015/16  67.580404                                    Worse  \n",
              "136     2015/16  68.727333                                    Worse  "
            ],
            "text/html": [
              "\n",
              "  <div id=\"df-6af6347c-0f30-47c6-9987-00ed26098c50\">\n",
              "    <div class=\"colab-df-container\">\n",
              "      <div>\n",
              "<style scoped>\n",
              "    .dataframe tbody tr th:only-of-type {\n",
              "        vertical-align: middle;\n",
              "    }\n",
              "\n",
              "    .dataframe tbody tr th {\n",
              "        vertical-align: top;\n",
              "    }\n",
              "\n",
              "    .dataframe thead th {\n",
              "        text-align: right;\n",
              "    }\n",
              "</style>\n",
              "<table border=\"1\" class=\"dataframe\">\n",
              "  <thead>\n",
              "    <tr style=\"text-align: right;\">\n",
              "      <th></th>\n",
              "      <th>Area Code</th>\n",
              "      <th>Area Name</th>\n",
              "      <th>Area Type</th>\n",
              "      <th>Time period</th>\n",
              "      <th>Value</th>\n",
              "      <th>Compared to England value or percentiles</th>\n",
              "    </tr>\n",
              "  </thead>\n",
              "  <tbody>\n",
              "    <tr>\n",
              "      <th>134</th>\n",
              "      <td>E06000001</td>\n",
              "      <td>Hartlepool</td>\n",
              "      <td>Districts &amp; UAs (from Apr 2021)</td>\n",
              "      <td>2015/16</td>\n",
              "      <td>67.232891</td>\n",
              "      <td>Worse</td>\n",
              "    </tr>\n",
              "    <tr>\n",
              "      <th>135</th>\n",
              "      <td>E06000002</td>\n",
              "      <td>Middlesbrough</td>\n",
              "      <td>Districts &amp; UAs (from Apr 2021)</td>\n",
              "      <td>2015/16</td>\n",
              "      <td>67.580404</td>\n",
              "      <td>Worse</td>\n",
              "    </tr>\n",
              "    <tr>\n",
              "      <th>136</th>\n",
              "      <td>E06000003</td>\n",
              "      <td>Redcar and Cleveland</td>\n",
              "      <td>Districts &amp; UAs (from Apr 2021)</td>\n",
              "      <td>2015/16</td>\n",
              "      <td>68.727333</td>\n",
              "      <td>Worse</td>\n",
              "    </tr>\n",
              "  </tbody>\n",
              "</table>\n",
              "</div>\n",
              "      <button class=\"colab-df-convert\" onclick=\"convertToInteractive('df-6af6347c-0f30-47c6-9987-00ed26098c50')\"\n",
              "              title=\"Convert this dataframe to an interactive table.\"\n",
              "              style=\"display:none;\">\n",
              "        \n",
              "  <svg xmlns=\"http://www.w3.org/2000/svg\" height=\"24px\"viewBox=\"0 0 24 24\"\n",
              "       width=\"24px\">\n",
              "    <path d=\"M0 0h24v24H0V0z\" fill=\"none\"/>\n",
              "    <path d=\"M18.56 5.44l.94 2.06.94-2.06 2.06-.94-2.06-.94-.94-2.06-.94 2.06-2.06.94zm-11 1L8.5 8.5l.94-2.06 2.06-.94-2.06-.94L8.5 2.5l-.94 2.06-2.06.94zm10 10l.94 2.06.94-2.06 2.06-.94-2.06-.94-.94-2.06-.94 2.06-2.06.94z\"/><path d=\"M17.41 7.96l-1.37-1.37c-.4-.4-.92-.59-1.43-.59-.52 0-1.04.2-1.43.59L10.3 9.45l-7.72 7.72c-.78.78-.78 2.05 0 2.83L4 21.41c.39.39.9.59 1.41.59.51 0 1.02-.2 1.41-.59l7.78-7.78 2.81-2.81c.8-.78.8-2.07 0-2.86zM5.41 20L4 18.59l7.72-7.72 1.47 1.35L5.41 20z\"/>\n",
              "  </svg>\n",
              "      </button>\n",
              "      \n",
              "  <style>\n",
              "    .colab-df-container {\n",
              "      display:flex;\n",
              "      flex-wrap:wrap;\n",
              "      gap: 12px;\n",
              "    }\n",
              "\n",
              "    .colab-df-convert {\n",
              "      background-color: #E8F0FE;\n",
              "      border: none;\n",
              "      border-radius: 50%;\n",
              "      cursor: pointer;\n",
              "      display: none;\n",
              "      fill: #1967D2;\n",
              "      height: 32px;\n",
              "      padding: 0 0 0 0;\n",
              "      width: 32px;\n",
              "    }\n",
              "\n",
              "    .colab-df-convert:hover {\n",
              "      background-color: #E2EBFA;\n",
              "      box-shadow: 0px 1px 2px rgba(60, 64, 67, 0.3), 0px 1px 3px 1px rgba(60, 64, 67, 0.15);\n",
              "      fill: #174EA6;\n",
              "    }\n",
              "\n",
              "    [theme=dark] .colab-df-convert {\n",
              "      background-color: #3B4455;\n",
              "      fill: #D2E3FC;\n",
              "    }\n",
              "\n",
              "    [theme=dark] .colab-df-convert:hover {\n",
              "      background-color: #434B5C;\n",
              "      box-shadow: 0px 1px 3px 1px rgba(0, 0, 0, 0.15);\n",
              "      filter: drop-shadow(0px 1px 2px rgba(0, 0, 0, 0.3));\n",
              "      fill: #FFFFFF;\n",
              "    }\n",
              "  </style>\n",
              "\n",
              "      <script>\n",
              "        const buttonEl =\n",
              "          document.querySelector('#df-6af6347c-0f30-47c6-9987-00ed26098c50 button.colab-df-convert');\n",
              "        buttonEl.style.display =\n",
              "          google.colab.kernel.accessAllowed ? 'block' : 'none';\n",
              "\n",
              "        async function convertToInteractive(key) {\n",
              "          const element = document.querySelector('#df-6af6347c-0f30-47c6-9987-00ed26098c50');\n",
              "          const dataTable =\n",
              "            await google.colab.kernel.invokeFunction('convertToInteractive',\n",
              "                                                     [key], {});\n",
              "          if (!dataTable) return;\n",
              "\n",
              "          const docLinkHtml = 'Like what you see? Visit the ' +\n",
              "            '<a target=\"_blank\" href=https://colab.research.google.com/notebooks/data_table.ipynb>data table notebook</a>'\n",
              "            + ' to learn more about interactive tables.';\n",
              "          element.innerHTML = '';\n",
              "          dataTable['output_type'] = 'display_data';\n",
              "          await google.colab.output.renderOutput(dataTable, element);\n",
              "          const docLink = document.createElement('div');\n",
              "          docLink.innerHTML = docLinkHtml;\n",
              "          element.appendChild(docLink);\n",
              "        }\n",
              "      </script>\n",
              "    </div>\n",
              "  </div>\n",
              "  "
            ]
          },
          "metadata": {},
          "execution_count": 13
        }
      ]
    },
    {
      "cell_type": "code",
      "source": [
        "df4=df3.loc[df3[\"Time period\"] != \"2015/16\"]\n",
        "df5=df4.loc[df4[\"Time period\"] != \"2016/17\"]\n",
        "df6=df5.loc[df5[\"Time period\"] != \"2017/18\"]\n",
        "df7=df6.loc[df6[\"Time period\"] != \"2018/19\"]\n",
        "df8=df7.loc[df7[\"Time period\"] != \"2019/20\"]\n",
        "df9=df8.drop(['Area Type'],axis=1)"
      ],
      "metadata": {
        "id": "R4jjb1LWgecs"
      },
      "execution_count": null,
      "outputs": []
    },
    {
      "cell_type": "code",
      "source": [
        "df9.head(3)"
      ],
      "metadata": {
        "colab": {
          "base_uri": "https://localhost:8080/",
          "height": 222
        },
        "id": "sfLKN-qdqbzA",
        "outputId": "517ae3e0-09e3-4151-bcd0-3c852de6a1e9"
      },
      "execution_count": null,
      "outputs": [
        {
          "output_type": "execute_result",
          "data": {
            "text/plain": [
              "      Area Code             Area Name Time period      Value  \\\n",
              "2349  E06000001            Hartlepool     2020/21  74.576608   \n",
              "2350  E06000002         Middlesbrough     2020/21  70.764041   \n",
              "2351  E06000003  Redcar and Cleveland     2020/21  68.494717   \n",
              "\n",
              "     Compared to England value or percentiles  \n",
              "2349                                    Worse  \n",
              "2350                                    Worse  \n",
              "2351                                    Worse  "
            ],
            "text/html": [
              "\n",
              "  <div id=\"df-a37b2ff5-303c-40c5-856e-5d5c21c1e02a\">\n",
              "    <div class=\"colab-df-container\">\n",
              "      <div>\n",
              "<style scoped>\n",
              "    .dataframe tbody tr th:only-of-type {\n",
              "        vertical-align: middle;\n",
              "    }\n",
              "\n",
              "    .dataframe tbody tr th {\n",
              "        vertical-align: top;\n",
              "    }\n",
              "\n",
              "    .dataframe thead th {\n",
              "        text-align: right;\n",
              "    }\n",
              "</style>\n",
              "<table border=\"1\" class=\"dataframe\">\n",
              "  <thead>\n",
              "    <tr style=\"text-align: right;\">\n",
              "      <th></th>\n",
              "      <th>Area Code</th>\n",
              "      <th>Area Name</th>\n",
              "      <th>Time period</th>\n",
              "      <th>Value</th>\n",
              "      <th>Compared to England value or percentiles</th>\n",
              "    </tr>\n",
              "  </thead>\n",
              "  <tbody>\n",
              "    <tr>\n",
              "      <th>2349</th>\n",
              "      <td>E06000001</td>\n",
              "      <td>Hartlepool</td>\n",
              "      <td>2020/21</td>\n",
              "      <td>74.576608</td>\n",
              "      <td>Worse</td>\n",
              "    </tr>\n",
              "    <tr>\n",
              "      <th>2350</th>\n",
              "      <td>E06000002</td>\n",
              "      <td>Middlesbrough</td>\n",
              "      <td>2020/21</td>\n",
              "      <td>70.764041</td>\n",
              "      <td>Worse</td>\n",
              "    </tr>\n",
              "    <tr>\n",
              "      <th>2351</th>\n",
              "      <td>E06000003</td>\n",
              "      <td>Redcar and Cleveland</td>\n",
              "      <td>2020/21</td>\n",
              "      <td>68.494717</td>\n",
              "      <td>Worse</td>\n",
              "    </tr>\n",
              "  </tbody>\n",
              "</table>\n",
              "</div>\n",
              "      <button class=\"colab-df-convert\" onclick=\"convertToInteractive('df-a37b2ff5-303c-40c5-856e-5d5c21c1e02a')\"\n",
              "              title=\"Convert this dataframe to an interactive table.\"\n",
              "              style=\"display:none;\">\n",
              "        \n",
              "  <svg xmlns=\"http://www.w3.org/2000/svg\" height=\"24px\"viewBox=\"0 0 24 24\"\n",
              "       width=\"24px\">\n",
              "    <path d=\"M0 0h24v24H0V0z\" fill=\"none\"/>\n",
              "    <path d=\"M18.56 5.44l.94 2.06.94-2.06 2.06-.94-2.06-.94-.94-2.06-.94 2.06-2.06.94zm-11 1L8.5 8.5l.94-2.06 2.06-.94-2.06-.94L8.5 2.5l-.94 2.06-2.06.94zm10 10l.94 2.06.94-2.06 2.06-.94-2.06-.94-.94-2.06-.94 2.06-2.06.94z\"/><path d=\"M17.41 7.96l-1.37-1.37c-.4-.4-.92-.59-1.43-.59-.52 0-1.04.2-1.43.59L10.3 9.45l-7.72 7.72c-.78.78-.78 2.05 0 2.83L4 21.41c.39.39.9.59 1.41.59.51 0 1.02-.2 1.41-.59l7.78-7.78 2.81-2.81c.8-.78.8-2.07 0-2.86zM5.41 20L4 18.59l7.72-7.72 1.47 1.35L5.41 20z\"/>\n",
              "  </svg>\n",
              "      </button>\n",
              "      \n",
              "  <style>\n",
              "    .colab-df-container {\n",
              "      display:flex;\n",
              "      flex-wrap:wrap;\n",
              "      gap: 12px;\n",
              "    }\n",
              "\n",
              "    .colab-df-convert {\n",
              "      background-color: #E8F0FE;\n",
              "      border: none;\n",
              "      border-radius: 50%;\n",
              "      cursor: pointer;\n",
              "      display: none;\n",
              "      fill: #1967D2;\n",
              "      height: 32px;\n",
              "      padding: 0 0 0 0;\n",
              "      width: 32px;\n",
              "    }\n",
              "\n",
              "    .colab-df-convert:hover {\n",
              "      background-color: #E2EBFA;\n",
              "      box-shadow: 0px 1px 2px rgba(60, 64, 67, 0.3), 0px 1px 3px 1px rgba(60, 64, 67, 0.15);\n",
              "      fill: #174EA6;\n",
              "    }\n",
              "\n",
              "    [theme=dark] .colab-df-convert {\n",
              "      background-color: #3B4455;\n",
              "      fill: #D2E3FC;\n",
              "    }\n",
              "\n",
              "    [theme=dark] .colab-df-convert:hover {\n",
              "      background-color: #434B5C;\n",
              "      box-shadow: 0px 1px 3px 1px rgba(0, 0, 0, 0.15);\n",
              "      filter: drop-shadow(0px 1px 2px rgba(0, 0, 0, 0.3));\n",
              "      fill: #FFFFFF;\n",
              "    }\n",
              "  </style>\n",
              "\n",
              "      <script>\n",
              "        const buttonEl =\n",
              "          document.querySelector('#df-a37b2ff5-303c-40c5-856e-5d5c21c1e02a button.colab-df-convert');\n",
              "        buttonEl.style.display =\n",
              "          google.colab.kernel.accessAllowed ? 'block' : 'none';\n",
              "\n",
              "        async function convertToInteractive(key) {\n",
              "          const element = document.querySelector('#df-a37b2ff5-303c-40c5-856e-5d5c21c1e02a');\n",
              "          const dataTable =\n",
              "            await google.colab.kernel.invokeFunction('convertToInteractive',\n",
              "                                                     [key], {});\n",
              "          if (!dataTable) return;\n",
              "\n",
              "          const docLinkHtml = 'Like what you see? Visit the ' +\n",
              "            '<a target=\"_blank\" href=https://colab.research.google.com/notebooks/data_table.ipynb>data table notebook</a>'\n",
              "            + ' to learn more about interactive tables.';\n",
              "          element.innerHTML = '';\n",
              "          dataTable['output_type'] = 'display_data';\n",
              "          await google.colab.output.renderOutput(dataTable, element);\n",
              "          const docLink = document.createElement('div');\n",
              "          docLink.innerHTML = docLinkHtml;\n",
              "          element.appendChild(docLink);\n",
              "        }\n",
              "      </script>\n",
              "    </div>\n",
              "  </div>\n",
              "  "
            ]
          },
          "metadata": {},
          "execution_count": 34
        }
      ]
    },
    {
      "cell_type": "code",
      "source": [
        "df10=df9.round({\"Value\":1})"
      ],
      "metadata": {
        "id": "DN87N3B7yWsL"
      },
      "execution_count": null,
      "outputs": []
    },
    {
      "cell_type": "code",
      "source": [
        "df10.head(1)"
      ],
      "metadata": {
        "colab": {
          "base_uri": "https://localhost:8080/",
          "height": 142
        },
        "id": "u2sgxgZCybNV",
        "outputId": "2e7f9a22-c2c3-4ab0-b91d-5906ebfadbbc"
      },
      "execution_count": null,
      "outputs": [
        {
          "output_type": "execute_result",
          "data": {
            "text/plain": [
              "      Area Code   Area Name Time period  Value  \\\n",
              "2349  E06000001  Hartlepool     2020/21   74.6   \n",
              "\n",
              "     Compared to England value or percentiles  \n",
              "2349                                    Worse  "
            ],
            "text/html": [
              "\n",
              "  <div id=\"df-a58cb279-1b07-4fb8-ad15-fa006e15276e\">\n",
              "    <div class=\"colab-df-container\">\n",
              "      <div>\n",
              "<style scoped>\n",
              "    .dataframe tbody tr th:only-of-type {\n",
              "        vertical-align: middle;\n",
              "    }\n",
              "\n",
              "    .dataframe tbody tr th {\n",
              "        vertical-align: top;\n",
              "    }\n",
              "\n",
              "    .dataframe thead th {\n",
              "        text-align: right;\n",
              "    }\n",
              "</style>\n",
              "<table border=\"1\" class=\"dataframe\">\n",
              "  <thead>\n",
              "    <tr style=\"text-align: right;\">\n",
              "      <th></th>\n",
              "      <th>Area Code</th>\n",
              "      <th>Area Name</th>\n",
              "      <th>Time period</th>\n",
              "      <th>Value</th>\n",
              "      <th>Compared to England value or percentiles</th>\n",
              "    </tr>\n",
              "  </thead>\n",
              "  <tbody>\n",
              "    <tr>\n",
              "      <th>2349</th>\n",
              "      <td>E06000001</td>\n",
              "      <td>Hartlepool</td>\n",
              "      <td>2020/21</td>\n",
              "      <td>74.6</td>\n",
              "      <td>Worse</td>\n",
              "    </tr>\n",
              "  </tbody>\n",
              "</table>\n",
              "</div>\n",
              "      <button class=\"colab-df-convert\" onclick=\"convertToInteractive('df-a58cb279-1b07-4fb8-ad15-fa006e15276e')\"\n",
              "              title=\"Convert this dataframe to an interactive table.\"\n",
              "              style=\"display:none;\">\n",
              "        \n",
              "  <svg xmlns=\"http://www.w3.org/2000/svg\" height=\"24px\"viewBox=\"0 0 24 24\"\n",
              "       width=\"24px\">\n",
              "    <path d=\"M0 0h24v24H0V0z\" fill=\"none\"/>\n",
              "    <path d=\"M18.56 5.44l.94 2.06.94-2.06 2.06-.94-2.06-.94-.94-2.06-.94 2.06-2.06.94zm-11 1L8.5 8.5l.94-2.06 2.06-.94-2.06-.94L8.5 2.5l-.94 2.06-2.06.94zm10 10l.94 2.06.94-2.06 2.06-.94-2.06-.94-.94-2.06-.94 2.06-2.06.94z\"/><path d=\"M17.41 7.96l-1.37-1.37c-.4-.4-.92-.59-1.43-.59-.52 0-1.04.2-1.43.59L10.3 9.45l-7.72 7.72c-.78.78-.78 2.05 0 2.83L4 21.41c.39.39.9.59 1.41.59.51 0 1.02-.2 1.41-.59l7.78-7.78 2.81-2.81c.8-.78.8-2.07 0-2.86zM5.41 20L4 18.59l7.72-7.72 1.47 1.35L5.41 20z\"/>\n",
              "  </svg>\n",
              "      </button>\n",
              "      \n",
              "  <style>\n",
              "    .colab-df-container {\n",
              "      display:flex;\n",
              "      flex-wrap:wrap;\n",
              "      gap: 12px;\n",
              "    }\n",
              "\n",
              "    .colab-df-convert {\n",
              "      background-color: #E8F0FE;\n",
              "      border: none;\n",
              "      border-radius: 50%;\n",
              "      cursor: pointer;\n",
              "      display: none;\n",
              "      fill: #1967D2;\n",
              "      height: 32px;\n",
              "      padding: 0 0 0 0;\n",
              "      width: 32px;\n",
              "    }\n",
              "\n",
              "    .colab-df-convert:hover {\n",
              "      background-color: #E2EBFA;\n",
              "      box-shadow: 0px 1px 2px rgba(60, 64, 67, 0.3), 0px 1px 3px 1px rgba(60, 64, 67, 0.15);\n",
              "      fill: #174EA6;\n",
              "    }\n",
              "\n",
              "    [theme=dark] .colab-df-convert {\n",
              "      background-color: #3B4455;\n",
              "      fill: #D2E3FC;\n",
              "    }\n",
              "\n",
              "    [theme=dark] .colab-df-convert:hover {\n",
              "      background-color: #434B5C;\n",
              "      box-shadow: 0px 1px 3px 1px rgba(0, 0, 0, 0.15);\n",
              "      filter: drop-shadow(0px 1px 2px rgba(0, 0, 0, 0.3));\n",
              "      fill: #FFFFFF;\n",
              "    }\n",
              "  </style>\n",
              "\n",
              "      <script>\n",
              "        const buttonEl =\n",
              "          document.querySelector('#df-a58cb279-1b07-4fb8-ad15-fa006e15276e button.colab-df-convert');\n",
              "        buttonEl.style.display =\n",
              "          google.colab.kernel.accessAllowed ? 'block' : 'none';\n",
              "\n",
              "        async function convertToInteractive(key) {\n",
              "          const element = document.querySelector('#df-a58cb279-1b07-4fb8-ad15-fa006e15276e');\n",
              "          const dataTable =\n",
              "            await google.colab.kernel.invokeFunction('convertToInteractive',\n",
              "                                                     [key], {});\n",
              "          if (!dataTable) return;\n",
              "\n",
              "          const docLinkHtml = 'Like what you see? Visit the ' +\n",
              "            '<a target=\"_blank\" href=https://colab.research.google.com/notebooks/data_table.ipynb>data table notebook</a>'\n",
              "            + ' to learn more about interactive tables.';\n",
              "          element.innerHTML = '';\n",
              "          dataTable['output_type'] = 'display_data';\n",
              "          await google.colab.output.renderOutput(dataTable, element);\n",
              "          const docLink = document.createElement('div');\n",
              "          docLink.innerHTML = docLinkHtml;\n",
              "          element.appendChild(docLink);\n",
              "        }\n",
              "      </script>\n",
              "    </div>\n",
              "  </div>\n",
              "  "
            ]
          },
          "metadata": {},
          "execution_count": 46
        }
      ]
    },
    {
      "cell_type": "code",
      "source": [
        "df10.to_csv(\"adultsoverweightorobese202021.csv\")"
      ],
      "metadata": {
        "id": "fTYhtsQcr4l3"
      },
      "execution_count": null,
      "outputs": []
    },
    {
      "cell_type": "markdown",
      "source": [
        "I then downloaded the fast food density data as a CSV from PHE, found here: https://www.gov.uk/government/publications/fast-food-outlets-density-by-local-authority-in-england Because outlets were counted in 2017, the LA names were not consistent across the obesity dataset and the density dataset. I looked up any boundary name changes that have occured between 2017 and 2021, and changed names of 2017 LA data in the fast food density CSV, so that they would match up in the merged table. I did this using this spreadsheet from ONS (https://github.com/jesme00/jesme00.github.io/blob/main/LA%20Name%20Changes.xlsx) as well as Google searches.\n",
        "\n",
        "For example, what historically was split into two districts, 'West Somerset' and 'Taunton Deane', is now a merged area called 'Somerset West'. The outlet count for Somerset West is a sum of the outlet data for West Somerset and Taunton Deane. To work out the rate per 100,000 population of Somerset West, I needed to approximate the population of the old area. I did this by calculating (COUNT OF OUTLETS/RATE PER 100,000 POPULATION)*100,000 for both West Somerset and Taunton Deane, then summing these populations together. I could then calculate the outlet density by dividing total outlet count by this approximated population. Why did I do this instead of collecting 2021 population data? The calculated density is likely to be more reflective of the true density by dividing the 2017 outlet count by the 2017 population: dividing 2017 outlet count by the 2021 population would, for example, understate concentration if the number of outlets has grown relative to the population since 2017.\n",
        "\n",
        "Since there have been only very minor physical boundary changes, these changes entirely involved summing data for the specific 2017 districts next to each other to get the new merged 2020/21 UA data. I believe this is sufficent when mapping country-wide data because the areas are visually very small. I may have wanted to be more pedantic with the impact of changing physical boundaries on my population calculations if I was zooming into a particular part of England.\n",
        "\n",
        "To see my working, changes can be viewed in this Excel file: https://github.com/jesme00/jesme00.github.io/blob/main/FoodDensityAndObesityLAMatching.xls \n",
        "\n",
        "The new CSV that combines the adultsoverweightorobese202021.csv with the outlet count and density data is saved in a tab of this file, but was loaded into my end map and regression work as the csv linked here: https://github.com/jesme00/jesme00.github.io/blob/main/FastFoodDensityAndObesity.csv"
      ],
      "metadata": {
        "id": "bkIH5H9duExn"
      }
    }
  ]
}